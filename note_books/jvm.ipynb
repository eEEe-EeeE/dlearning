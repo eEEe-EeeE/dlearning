{
 "cells": [
  {
   "cell_type": "markdown",
   "metadata": {},
   "source": [
    "## 类文件结构\n",
    "---"
   ]
  },
  {
   "cell_type": "markdown",
   "metadata": {},
   "source": [
    "### 无关性"
   ]
  },
  {
   "cell_type": "markdown",
   "metadata": {},
   "source": [
    "> 1.平台无关性--字节码  \n",
    "> 2.语言无关性--jvm上可以运行其他语言"
   ]
  },
  {
   "cell_type": "markdown",
   "metadata": {},
   "source": [
    "### class结构"
   ]
  },
  {
   "cell_type": "markdown",
   "metadata": {},
   "source": [
    "> class文件存储方式：以8位字节为基础单位的二进制流，采用大端模式存储1字节以上的数据，不采用任何分隔符  \n",
    "> 数据类型：无符号数和表两种\n",
    "  - 无符号数：u1, u2, u4, u8分别代表1, 2, 4, 8字节的无符号数\n",
    "  - 表：由无符号数或表构成的复合类型"
   ]
  },
  {
   "cell_type": "markdown",
   "metadata": {},
   "source": [
    "#### 魔数与版本\n",
    "1. 魔数：头四个字节，用于确定这个文件是否为一个能被jvm接受的class文件\n",
    "2. 次版本：紧接着的两个字节\n",
    "3. 主版本：此版本接着的两个字节\n",
    "4. 兼容：高版本的jdk能向下兼容低版本的class文件"
   ]
  },
  {
   "cell_type": "markdown",
   "metadata": {},
   "source": [
    "#### 常量池\n",
    "1. 容量计数器：常量池的头两个字节，计数从1开始，0空出来表达“不引用任何一个常量池项目”\n",
    "2. 常量项：都以u1类型的tag开头，表明类型\n",
    "3. 常量类别：字面量和符号引用\n",
    "  - 字面量：偏向语言层的常量，如字符串\n",
    "  - 符号引用：偏向编译层的概念\n",
    "    - 类和接口的全限定名\n",
    "    - 字段的名称和描述符\n",
    "    - 方法的名称和描述符"
   ]
  },
  {
   "cell_type": "markdown",
   "metadata": {},
   "source": [
    "#### 访问标志\n",
    "1. 标志标识类或接口层次的访问信息"
   ]
  },
  {
   "cell_type": "markdown",
   "metadata": {},
   "source": [
    "#### 类索引、父类索引、接口索引集合\n",
    "1. 类索引：确定这个类的全限定名\n",
    "2. 父类索引：确定这个类的父类的全限定名，除了java.lang.Object，所有java类的父类索引都不为0\n",
    "3. 接口索引集合：入口项为u2类型的接口计数器，顺序为java文件中从左到右的顺序"
   ]
  },
  {
   "cell_type": "markdown",
   "metadata": {},
   "source": []
  }
 ],
 "metadata": {
  "kernelspec": {
   "display_name": "Python 3",
   "language": "python",
   "name": "python3"
  },
  "language_info": {
   "codemirror_mode": {
    "name": "ipython",
    "version": 3
   },
   "file_extension": ".py",
   "mimetype": "text/x-python",
   "name": "python",
   "nbconvert_exporter": "python",
   "pygments_lexer": "ipython3",
   "version": "3.6.8"
  }
 },
 "nbformat": 4,
 "nbformat_minor": 2
}
