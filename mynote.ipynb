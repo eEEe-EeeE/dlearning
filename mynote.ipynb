{
 "cells": [
  {
   "cell_type": "markdown",
   "metadata": {},
   "source": [
    "# HeteroMed: Heterogeneous Information Network for Medical Diagnosis"
   ]
  },
  {
   "cell_type": "markdown",
   "metadata": {},
   "source": [
    "## 定义和术语"
   ]
  },
  {
   "cell_type": "markdown",
   "metadata": {},
   "source": [
    "临床事件 $e = (t, n, v)$  \n",
    "t：类型  \n",
    "n：名称  \n",
    "v：值  \n",
    "临床事件类型表示为 $t_1,t_2,t_3,...,t_{|T|} \\in T, T = DIGNOSTIC \\cup TREATMENT$  \n",
    "DIGNOSTIC = \\{实验室实验, 症状, 年龄, 性别, 种族, 微生物实验\\}  \n",
    "TREATMENT = \\{处方, 程序, 诊断\\}\n",
    "定义诊断预测为等级问题预测模型和顶层结果应该匹配病人实际的诊断集  \n",
    "\n",
    "异构信息网络定义为一个图$G = (V, E)$节点V和边E可以有多种类型  \n",
    "节点和边到其类型的映射函数 $g_v:V \\rightarrow A g_e:E \\rightarrow R$  \n",
    "$S_G = (A, G)$表示整个网络模式  \n",
    "网络链接的设计基于基本的EHR关系，主要是病人和临床事件之间的关系  \n"
   ]
  },
  {
   "cell_type": "markdown",
   "metadata": {},
   "source": [
    "## 异构信息网络中的EHR"
   ]
  },
  {
   "cell_type": "markdown",
   "metadata": {},
   "source": [
    "![EHR heterogeneous network schema](imgs/EHR.png)  \n",
    "两种节点类型之间的高阶关系中的元路径。具有网络模式$S_G = (A, G)$  \n",
    "元路径允许我们的网络更好地学习节点之间相似性的语义  \n",
    "例如，病人$\\rightarrow$症状$\\leftarrow$病人表示两个病人关于症状的相似性  \n",
    "不同的患者和临床事件构成临床异质网络的节点  "
   ]
  },
  {
   "cell_type": "markdown",
   "metadata": {},
   "source": [
    "## 临床事件HIN的构建"
   ]
  },
  {
   "cell_type": "markdown",
   "metadata": {},
   "source": [
    "在许多情况下，某个临床事件的不同值在疾病预测方面传达了相同的语义  \n",
    "例如，许多实验室试验中的各种数值测量只要它们属于正常或异常范围就被认为是相同的。因此，建模策略应将具有重复诊断***语义***的临床事件映射到同一节点，否则会对模型捕获节点相似性的能力造成负面影响  "
   ]
  },
  {
   "cell_type": "markdown",
   "metadata": {},
   "source": [
    "## 临床事件的异构网络嵌入"
   ]
  },
  {
   "attachments": {},
   "cell_type": "markdown",
   "metadata": {},
   "source": [
    "![obj_function](imgs/obj_function.png)\n",
    "pr函数是softmax指数归一化函数\n",
    "![softmax](imgs/softmax.png)\n",
    "$N(v)=\\{N_1(v),N_2(v),...,N_T(v)\\}$表示节点v的邻居节点的概率向量"
   ]
  },
  {
   "cell_type": "markdown",
   "metadata": {},
   "source": [
    "## 诊断预测"
   ]
  },
  {
   "cell_type": "markdown",
   "metadata": {},
   "source": [
    "![f1](imgs/f1.png)\n",
    "![f2](imgs/f2.png)\n",
    "![s1](imgs/s1.png)\n",
    "![prediction](imgs/prediction.png)"
   ]
  }
 ],
 "metadata": {
  "kernelspec": {
   "display_name": "Python 3",
   "language": "python",
   "name": "python3"
  },
  "language_info": {
   "codemirror_mode": {
    "name": "ipython",
    "version": 3
   },
   "file_extension": ".py",
   "mimetype": "text/x-python",
   "name": "python",
   "nbconvert_exporter": "python",
   "pygments_lexer": "ipython3",
   "version": "3.6.8"
  }
 },
 "nbformat": 4,
 "nbformat_minor": 2
}
